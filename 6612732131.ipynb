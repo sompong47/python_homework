{
 "cells": [
  {
   "cell_type": "code",
   "execution_count": null,
   "id": "d4b0c418-fcda-45ca-8f70-06cb053fe981",
   "metadata": {},
   "outputs": [],
   "source": [
    "\"นาย สมพงษ์ ใยคำ 6612732131\""
   ]
  },
  {
   "cell_type": "code",
   "execution_count": 3,
   "id": "8d36cf86-73ea-40e0-b844-d9b626e03718",
   "metadata": {
    "tags": []
   },
   "outputs": [
    {
     "name": "stdout",
     "output_type": "stream",
     "text": [
      " * \n",
      " *  * \n",
      " *  *  * \n",
      " *  *  *  * \n",
      " *  *  *  *  * \n"
     ]
    }
   ],
   "source": [
    "for i in range (1, 6):\n",
    "    print(\" * \" * i)\n",
    "    "
   ]
  },
  {
   "cell_type": "code",
   "execution_count": 34,
   "id": "89f3c904-396f-4868-a120-7fe61d835792",
   "metadata": {
    "tags": []
   },
   "outputs": [
    {
     "name": "stdout",
     "output_type": "stream",
     "text": [
      "               *  \n",
      "            *  *  \n",
      "         *  *  *  \n",
      "      *  *  *  *  \n",
      "   *  *  *  *  *  \n",
      "*  *  *  *  *  *  \n"
     ]
    }
   ],
   "source": [
    "n = 6\n",
    "end = n -1\n",
    "for i in range (0,n):\n",
    "    for j in range(0,n):\n",
    "        if j >= end - i:\n",
    "            print(\"* \", end=\" \")\n",
    "        else:\n",
    "            print(\"  \", end=\" \")\n",
    "    print() "
   ]
  },
  {
   "cell_type": "code",
   "execution_count": 21,
   "id": "c4eb141b-13e0-456a-b41a-150ed67a8985",
   "metadata": {
    "tags": []
   },
   "outputs": [
    {
     "name": "stdout",
     "output_type": "stream",
     "text": [
      " *  *  *  *  * \n",
      " *  *  *  * \n",
      " *  *  * \n",
      " *  * \n",
      " * \n"
     ]
    }
   ],
   "source": [
    "for i in range (5,0,-1):\n",
    "    print(\" * \" * i)\n",
    "    "
   ]
  },
  {
   "cell_type": "code",
   "execution_count": 43,
   "id": "58eefba0-613c-4743-8d15-c953400bb651",
   "metadata": {
    "tags": []
   },
   "outputs": [
    {
     "name": "stdout",
     "output_type": "stream",
     "text": [
      "  *     *     *     *     *     *   \n",
      "     *     *     *     *     *   \n",
      "        *     *     *     *   \n",
      "           *     *     *   \n",
      "              *     *   \n",
      "                 *   \n",
      "                  \n",
      "                  \n",
      "                  \n",
      "                  \n",
      "                  \n"
     ]
    }
   ],
   "source": [
    "n = 6\n",
    "end = n -1\n",
    "for i in range (-5,n):\n",
    "    for j in range(0,n):\n",
    "        if j >= end + i:\n",
    "            print(\"  *\", end=\"   \")\n",
    "        else:\n",
    "            print(\"  \", end=\" \")\n",
    "    print() "
   ]
  },
  {
   "cell_type": "code",
   "execution_count": null,
   "id": "024a3249-fc2e-4aa6-869e-05b21a4a56af",
   "metadata": {},
   "outputs": [],
   "source": []
  }
 ],
 "metadata": {
  "kernelspec": {
   "display_name": "Python 3 (ipykernel)",
   "language": "python",
   "name": "python3"
  },
  "language_info": {
   "codemirror_mode": {
    "name": "ipython",
    "version": 3
   },
   "file_extension": ".py",
   "mimetype": "text/x-python",
   "name": "python",
   "nbconvert_exporter": "python",
   "pygments_lexer": "ipython3",
   "version": "3.11.5"
  }
 },
 "nbformat": 4,
 "nbformat_minor": 5
}
