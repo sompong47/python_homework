{
 "cells": [
  {
   "cell_type": "code",
   "execution_count": 2,
   "id": "84a5f7de-5590-4794-be9e-9f2c5fdb559f",
   "metadata": {
    "tags": []
   },
   "outputs": [
    {
     "name": "stdout",
     "output_type": "stream",
     "text": [
      "นาย สมพงษ์ ใยคำ 6612732131\n"
     ]
    }
   ],
   "source": [
    "print(\"นาย สมพงษ์ ใยคำ 6612732131\")\n",
    "      "
   ]
  },
  {
   "cell_type": "code",
   "execution_count": null,
   "id": "b3474094-3add-48a3-a8e1-bd961de008fe",
   "metadata": {},
   "outputs": [],
   "source": []
  }
 ],
 "metadata": {
  "kernelspec": {
   "display_name": "Python 3 (ipykernel)",
   "language": "python",
   "name": "python3"
  },
  "language_info": {
   "codemirror_mode": {
    "name": "ipython",
    "version": 3
   },
   "file_extension": ".py",
   "mimetype": "text/x-python",
   "name": "python",
   "nbconvert_exporter": "python",
   "pygments_lexer": "ipython3",
   "version": "3.11.5"
  }
 },
 "nbformat": 4,
 "nbformat_minor": 5
}
