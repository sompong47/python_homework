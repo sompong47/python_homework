{
 "cells": [
  {
   "cell_type": "markdown",
   "metadata": {},
   "source": [
    "# ข้อสอบปลายภาควิชา การเขียนโปรแกรมเชิงวัตถุ"
   ]
  },
  {
   "cell_type": "code",
   "execution_count": null,
   "metadata": {},
   "outputs": [],
   "source": [
    "\"\"\"\n",
    "ชื่อ - สกุล - รหัส\n",
    "นาย สมพงษ์ ใยคำ 6612732131\n",
    "\n",
    "\"\"\""
   ]
  },
  {
   "cell_type": "markdown",
   "metadata": {},
   "source": [
    "## 1. เขียนโปรแกรมโดยใช้กลไกลการทำงานแบบ OOP ตามข้อกำหนดดังต่อไปนี้\n",
    "\n",
    "- จงสร้างคลาส Person\" ที่มีตัวแปร \"name\" และ \"age\" ซึ่งไม่สามารถเข้าถึงผ่านตัวแปร instance ได้ และเขียน method ที่ใช้สำหรับแก้ไข \"age\" จากภายในคลาส และ \"age\" จะต้องมีค่าเพิ่มขึ้นได้อย่างเดียวเท่านั้น\n",
    "\n",
    "- ภายใน Class Person กำหนดให้มี method ชื่อ getInfo() สำหรับแสดงข้อมูลบุคคลนั้น ๆ"
   ]
  },
  {
   "cell_type": "code",
   "execution_count": 50,
   "metadata": {
    "tags": []
   },
   "outputs": [],
   "source": [
    "# เขียนโปรแกรมในช่องนี้\n",
    "class person():\n",
    "    def __init__(self,name,age):\n",
    "        self.name = name\n",
    "        self.age = age\n",
    "        \n",
    "        self.__name = name\n",
    "        self.__age = age\n",
    "        \n",
    "    def getAge(self):\n",
    "        return self.__age\n",
    "    def getName(self):\n",
    "        return self.__name\n",
    "    \n",
    "    def setAge(self,age):\n",
    "        if self.__age < age:\n",
    "            self.__age = age\n",
    "        else:\n",
    "            print(\"Eoror,can.not,set.age\")\n",
    "    def getInfo(self):\n",
    "        return self.name,self.age\n",
    "\n"
   ]
  },
  {
   "cell_type": "code",
   "execution_count": 51,
   "metadata": {
    "tags": []
   },
   "outputs": [],
   "source": [
    "# จงสร้างตัวแปร instance จากคลาส Person\n",
    "instance = person('นาย สมพงษ์ ใยคำ',19)\n"
   ]
  },
  {
   "cell_type": "code",
   "execution_count": 52,
   "metadata": {
    "tags": []
   },
   "outputs": [
    {
     "data": {
      "text/plain": [
       "23"
      ]
     },
     "execution_count": 52,
     "metadata": {},
     "output_type": "execute_result"
    }
   ],
   "source": [
    "# จงกำหนดอายุให้แก่ age\n",
    "instance.setAge(23)\n",
    "instance.getAge()\n"
   ]
  },
  {
   "cell_type": "code",
   "execution_count": 53,
   "metadata": {
    "tags": []
   },
   "outputs": [
    {
     "data": {
      "text/plain": [
       "('นาย สมพงษ์ ใยคำ', 19)"
      ]
     },
     "execution_count": 53,
     "metadata": {},
     "output_type": "execute_result"
    }
   ],
   "source": [
    "# จงแสดงข้่อมูลบุคคลของตัวแปร instance \n",
    "instance.getInfo()\n"
   ]
  },
  {
   "cell_type": "markdown",
   "metadata": {},
   "source": [
    "## 2.จงสร้างคลาส Student ที่มีการสืบทอดคุณสมบัติจากคลาส Person ในข้อที่ 1\n",
    "\n",
    "- ในคลาส Student จะมีคุณสมบัติเพิ่มเข้ามาดังต่อไปนี้ \"student_id\" คือ รหัสนักศึกษา, \"major\" คือ สาขาวิชา และทั้งสองจะต้องเป็นคุณสมบัติที่ไม่สามารถแก้ไขได้หลังจากสร้างตัวแปร Instance แล้ว\n",
    "\n",
    "- และใน method getInfo() ให้เพิ่มการแแสดง รหัสนักศึกษา และ สาชาวิชา เข้ามาด้วย"
   ]
  },
  {
   "cell_type": "code",
   "execution_count": 54,
   "metadata": {
    "tags": []
   },
   "outputs": [],
   "source": [
    "# เขียนโปรแกรมในช่องนี้\n",
    "class Person:\n",
    "    def __init__(self, name, age):\n",
    "        self.__name = name\n",
    "        self.__age = age\n",
    "\n",
    "    def set_age(self, new_age):\n",
    "        if new_age > self.__age:\n",
    "            self.__age = new_age\n",
    "\n",
    "    def get_info(self):\n",
    "        return f\"Name: {self.__name}, Age: {self.__age}\"\n",
    "\n",
    "\n",
    "class Student(Person):\n",
    "    def __init__(self, name, age, student_id, major):\n",
    "        super().__init__(name, age)\n",
    "        self.__student_id = student_id\n",
    "        self.__major = major\n",
    "\n",
    "    def get_info(self):\n",
    "        person_info = super().get_info()\n",
    "        return f\"{person_info}, Student ID: {self.__student_id}, Major: {self.__major}\"\n",
    "    \n"
   ]
  },
  {
   "cell_type": "code",
   "execution_count": 55,
   "metadata": {
    "tags": []
   },
   "outputs": [],
   "source": [
    "# จงสร้างตัวแปร instance จากคลาส Student\n",
    "student1 = Student(\"นาย สมพงษ์ ใยคำ\", 19, \"6612732131\", \"Computer Science\")\n"
   ]
  },
  {
   "cell_type": "code",
   "execution_count": 56,
   "metadata": {
    "tags": []
   },
   "outputs": [
    {
     "name": "stdout",
     "output_type": "stream",
     "text": [
      "Name: นาย สมพงษ์ ใยคำ, Age: 19, Student ID: 6612732131, Major: Computer Science\n"
     ]
    }
   ],
   "source": [
    "# จงแสดงข้่อมูลนักเรียนของตัวแปร instance \n",
    "print(student1.get_info())\n"
   ]
  },
  {
   "cell_type": "markdown",
   "metadata": {},
   "source": [
    "## 3.จงสร้างคลาส ComSciStudent ที่มีการสืบทอดคุณสมบัติจากคลาส Student ในข้อที่ 2\n",
    "\n",
    "- ในคลาส ComSciStudent จะมีคุณสมบัติที่รับเข้ามาแค่ \"student_id\" คือ รหัสนักศึกษา, แต่ \"major\" คือ สาขาวิชา จะมีค่า default เป็น \"Computer Science\" และทั้งสองจะต้องเป็นคุณสมบัติที่ไม่สามารถแก้ไขได้หลังจากสร้างตัวแปร Instance แล้ว\n",
    "\n",
    "- ในคลาส ComSciStudent จะมีคุณสมบัติที่เพิ่มเข้ามา อีก 1 ตัว คือ ความถนัด หรือ aptitude เพิ่มเข้ามา ซึ่งจะสามารถกำหนดได้ในกระบวนการสร้างตัวแปร instance และจะสามารถแก้ไขได้อีกโดยการแก้ไขผ่าน method ได้เท่านั้น\n",
    "\n",
    "\n",
    "- ในคลาส ComSciStudent จะมี method ชื่อว่า Coding() ซึ่งจะนำเสนอข้อมูลว่า นักศึกษา รหัสนักศึกษา ชื่อ กำลังเขียนโปรแกรมอยู่\n",
    "\n",
    "- ในคลาส ComSciStudent จะมี method ชื่อว่า getAptitude() ซึ่งจะนำเสนอข้อมูลว่า นักศึกษา รหัสนักศึกษา ชื่อ มีความถนัดเรื่อง ..."
   ]
  },
  {
   "cell_type": "code",
   "execution_count": 57,
   "metadata": {
    "tags": []
   },
   "outputs": [],
   "source": [
    "# เขียนโปรแกรมในช่องนี้\n",
    "class ComSciStudent(Student):\n",
    "    def __init__(self, name, age, student_id, aptitude=\"Programming\"):\n",
    "        super().__init__(name, age, student_id, \"Computer Science\")\n",
    "        self.__aptitude = aptitude\n",
    "\n",
    "    def get_aptitude(self):\n",
    "        return f\"{self.get_info()}, Aptitude: {self.__aptitude}\"\n",
    "    \n",
    "    def set_aptitude(self, new_aptitude):\n",
    "        self.__aptitude = new_aptitude\n",
    "\n",
    "    def coding(self):\n",
    "        return f\"{self.get_info()}, is coding now!\"\n",
    "    "
   ]
  },
  {
   "cell_type": "code",
   "execution_count": 58,
   "metadata": {
    "tags": []
   },
   "outputs": [],
   "source": [
    "# จงสร้างตัวแปร instance จากคลาส ComSciStudent\n",
    "com_sci_student1 = ComSciStudent(\"นาย สมพงษ์ ใยคำ\", 19, \"6612732131\", \"Web Development\")\n",
    "com_sci_student1.set_aptitude(\"Python Programming\")"
   ]
  },
  {
   "cell_type": "code",
   "execution_count": 59,
   "metadata": {
    "tags": []
   },
   "outputs": [
    {
     "name": "stdout",
     "output_type": "stream",
     "text": [
      "Name: นาย สมพงษ์ ใยคำ, Age: 19, Student ID: 6612732131, Major: Computer Science\n",
      "Name: นาย สมพงษ์ ใยคำ, Age: 19, Student ID: 6612732131, Major: Computer Science, Aptitude: Python Programming\n",
      "Name: นาย สมพงษ์ ใยคำ, Age: 19, Student ID: 6612732131, Major: Computer Science, is coding now!\n"
     ]
    }
   ],
   "source": [
    "# จงแสดงข้่อมูลนักเรียนของตัวแปร instance \n",
    "print(com_sci_student1.get_info())\n",
    "print(com_sci_student1.get_aptitude())\n",
    "print(com_sci_student1.coding())\n",
    "\n"
   ]
  },
  {
   "cell_type": "code",
   "execution_count": 60,
   "metadata": {
    "tags": []
   },
   "outputs": [
    {
     "name": "stdout",
     "output_type": "stream",
     "text": [
      "Name: นาย สมพงษ์ ใยคำ, Age: 19, Student ID: 6612732131, Major: Computer Science, is coding now!\n"
     ]
    }
   ],
   "source": [
    "# จงแสดงการ coding\n",
    "print(com_sci_student1.coding())\n"
   ]
  },
  {
   "cell_type": "code",
   "execution_count": 61,
   "metadata": {
    "tags": []
   },
   "outputs": [
    {
     "name": "stdout",
     "output_type": "stream",
     "text": [
      "Name: นาย สมพงษ์ ใยคำ, Age: 19, Student ID: 6612732131, Major: Computer Science, Aptitude: Python Programming\n"
     ]
    }
   ],
   "source": [
    "# จงแสดงความถนัด\n",
    "print(com_sci_student1.get_aptitude())\n",
    "\n"
   ]
  },
  {
   "cell_type": "code",
   "execution_count": 62,
   "metadata": {
    "tags": []
   },
   "outputs": [
    {
     "name": "stdout",
     "output_type": "stream",
     "text": [
      "Name: นาย สมพงษ์ ใยคำ, Age: 19, Student ID: 6612732131, Major: Computer Science, Aptitude: Python Programming\n"
     ]
    }
   ],
   "source": [
    "# จงแก้ไขความถนัด ให้เป็น Python Programing\n",
    "print(com_sci_student1.get_aptitude())"
   ]
  },
  {
   "cell_type": "code",
   "execution_count": null,
   "metadata": {},
   "outputs": [],
   "source": []
  }
 ],
 "metadata": {
  "kernelspec": {
   "display_name": "Python 3 (ipykernel)",
   "language": "python",
   "name": "python3"
  },
  "language_info": {
   "codemirror_mode": {
    "name": "ipython",
    "version": 3
   },
   "file_extension": ".py",
   "mimetype": "text/x-python",
   "name": "python",
   "nbconvert_exporter": "python",
   "pygments_lexer": "ipython3",
   "version": "3.11.5"
  }
 },
 "nbformat": 4,
 "nbformat_minor": 4
}
